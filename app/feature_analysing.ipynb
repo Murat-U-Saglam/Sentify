{
 "cells": [
  {
   "cell_type": "code",
   "execution_count": null,
   "metadata": {},
   "outputs": [],
   "source": [
    "import pandas as pd\n",
    "import numpy as np\n",
    "import matplotlib.pyplot as plt\n",
    "import seaborn as sns\n",
    "import os\n",
    "import gzip\n",
    "import shutil\n",
    "import json\n",
    "\n",
    "if os.getcwd().split(\"/\")[-1] == \"app\":\n",
    "    os.chdir(\"..\")\n",
    "    print(\"Changed working directory to root\")\n",
    "    print(\"Current working directory: \", os.getcwd())"
   ]
  },
  {
   "cell_type": "code",
   "execution_count": null,
   "metadata": {},
   "outputs": [],
   "source": [
    "def unzip_gz(input_file, output_file, tmp_dir):\n",
    "    output_file = os.path.join(tmp_dir, output_file)\n",
    "    with gzip.open(input_file, 'rb') as gz_file:\n",
    "        with open(output_file, 'wb') as output:\n",
    "            output.write(gz_file.read())\n",
    "\n",
    "def unzip_all_gz_files(data_dir, tmp_dir):\n",
    "    if tmp_dir not in os.listdir():\n",
    "        os.mkdir(tmp_dir)\n",
    "    for f in os.listdir(data_dir):\n",
    "        if f.endswith('.gz'):\n",
    "            unzip_gz(os.path.join(data_dir, f), f[:-3], tmp_dir)\n",
    "\n",
    "def merge_jsonsdata(data_dir,tmp_dir, output_file):\n",
    "    unzip_all_gz_files(data_dir, tmp_dir)\n",
    "    data = []\n",
    "    for f in os.listdir(tmp_dir):\n",
    "        if f.endswith('.json'):\n",
    "            with open(os.path.join(tmp_dir, f), 'r') as json_file:\n",
    "                data.append(json_file.read())\n",
    "    with open(os.path.join(data_dir, output_file), 'w') as output:\n",
    "        json.dump(data, output)\n",
    "        \n",
    "    remove_directory(tmp_dir)\n",
    "\n",
    "def remove_directory(directory_path):\n",
    "    try:\n",
    "        shutil.rmtree(directory_path)\n",
    "        print(f\"Directory '{directory_path}' and its contents have been removed successfully.\")\n",
    "    except FileNotFoundError:\n",
    "        print(f\"Directory '{directory_path}' not found.\")\n",
    "    except PermissionError:\n",
    "        print(f\"Permission denied to remove directory '{directory_path}'.\")\n",
    "    except Exception as e:\n",
    "        print(f\"An error occurred: {e}\")\n",
    "\n",
    "def zip(file_path, location, root):\n",
    "    file_path = os.path.join(root, file_path)\n",
    "    location = os.path.join(root, location)\n",
    "    with open(file_path, 'rb') as src, gzip.open(location, 'wb') as dst:\n",
    "        dst.writelines(src)\n",
    "    \n",
    "data_dir = 'data'\n",
    "data_fname = 'data.json'\n",
    "data_gzip_fname = 'data.json.gz'\n",
    "data_path = os.path.join(data_dir, data_fname)\n",
    "tmp_dir = 'tmp'\n",
    "\n",
    "if data_gzip_fname not in os.listdir(data_dir):\n",
    "    merge_jsonsdata(data_dir,tmp_dir, data_fname)\n",
    "    zip(data_fname, data_gzip_fname, data_dir)\n",
    "else:\n",
    "    print(f\"File '{data_path}' already exists.\")"
   ]
  }
 ],
 "metadata": {
  "kernelspec": {
   "display_name": "venv",
   "language": "python",
   "name": "python3"
  },
  "language_info": {
   "codemirror_mode": {
    "name": "ipython",
    "version": 3
   },
   "file_extension": ".py",
   "mimetype": "text/x-python",
   "name": "python",
   "nbconvert_exporter": "python",
   "pygments_lexer": "ipython3",
   "version": "3.10.6"
  },
  "orig_nbformat": 4
 },
 "nbformat": 4,
 "nbformat_minor": 2
}
